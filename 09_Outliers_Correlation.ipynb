{
 "cells": [
  {
   "cell_type": "markdown",
   "metadata": {},
   "source": [
    "<img src=images/Imperial_logo_crop.png width=300 align=right />"
   ]
  },
  {
   "cell_type": "markdown",
   "metadata": {},
   "source": [
    "# BUSINESS ANALYTICS: FROM DATA TO DECISIONS"
   ]
  },
  {
   "cell_type": "markdown",
   "metadata": {},
   "source": [
    "# Outliers and Correlation"
   ]
  },
  {
   "cell_type": "code",
   "execution_count": 1,
   "metadata": {},
   "outputs": [],
   "source": [
    "import numpy as np\n",
    "from scipy import stats\n",
    "from sklearn.linear_model import LinearRegression\n",
    "from matplotlib import pyplot as plt"
   ]
  },
  {
   "cell_type": "markdown",
   "metadata": {},
   "source": [
    "# Quantiles\n",
    "Cut points that divide the sorted observations of a distribution into even groups."
   ]
  },
  {
   "cell_type": "code",
   "execution_count": 2,
   "metadata": {},
   "outputs": [
    {
     "name": "stdout",
     "output_type": "stream",
     "text": [
      "-0.6744897501960817\n",
      "0.0\n",
      "0.6744897501960817\n"
     ]
    }
   ],
   "source": [
    "# Percent point function (aka quantile function or inverse cumulative distribution function).\n",
    "print(stats.norm.ppf(0.25))\n",
    "print(stats.norm.ppf(0.5)) # Median\n",
    "print(stats.norm.ppf(0.75))"
   ]
  },
  {
   "cell_type": "code",
   "execution_count": 3,
   "metadata": {},
   "outputs": [
    {
     "name": "stdout",
     "output_type": "stream",
     "text": [
      "0.25\n",
      "0.5\n",
      "0.75\n"
     ]
    }
   ],
   "source": [
    "print(stats.norm.cdf(-0.6744897501960817))\n",
    "print(stats.norm.cdf(0))\n",
    "print(stats.norm.cdf(0.6744897501960817))"
   ]
  },
  {
   "cell_type": "code",
   "execution_count": 4,
   "metadata": {},
   "outputs": [
    {
     "name": "stdout",
     "output_type": "stream",
     "text": [
      "-2.697959000784327\n",
      "2.697959000784327\n"
     ]
    }
   ],
   "source": [
    "# Interquartile range.\n",
    "q1 = stats.norm.ppf(0.25)\n",
    "q3 = stats.norm.ppf(0.75)\n",
    "iqr = q3 - q1\n",
    "\n",
    "print(q1 - 1.5 * iqr)\n",
    "print(q3 + 1.5 * iqr)"
   ]
  },
  {
   "cell_type": "code",
   "execution_count": 5,
   "metadata": {},
   "outputs": [
    {
     "data": {
      "image/png": "[encoded data removed]",
      "text/plain": [
       "<Figure size 432x288 with 1 Axes>"
      ]
     },
     "metadata": {
      "needs_background": "light"
     },
     "output_type": "display_data"
    }
   ],
   "source": [
    "plt.boxplot(stats.norm.rvs(size=100))\n",
    "\n",
    "plt.show()"
   ]
  },
  {
   "cell_type": "markdown",
   "metadata": {},
   "source": [
    "### Cleaning data requires domain knowledge\n",
    "To fix synonyms, mispellings, variable types (discrete vs categorical), variable **ranges**...\n",
    "### Cleaning data modifies the dataset\n",
    "Every time we modify a dataset, we loose some information.\n",
    "\n",
    "Is it always wise to get rid of everything that doesn't fit?\n",
    "\n",
    "**Overcleaning** is a thing."
   ]
  },
  {
   "cell_type": "markdown",
   "metadata": {},
   "source": [
    "# Simple linear regression\n",
    "$y = b + ax$\n",
    "\n",
    "We want to find an optimal set of values for $a$ and $b$ that minimize the residuals."
   ]
  },
  {
   "cell_type": "code",
   "execution_count": 6,
   "metadata": {},
   "outputs": [
    {
     "name": "stdout",
     "output_type": "stream",
     "text": [
      "[11.27490571] [[1.71944143]]\n"
     ]
    },
    {
     "data": {
      "image/png": "[encoded data removed]",
      "text/plain": [
       "<Figure size 432x288 with 1 Axes>"
      ]
     },
     "metadata": {
      "needs_background": "light"
     },
     "output_type": "display_data"
    }
   ],
   "source": [
    "x = np.random.uniform(0, 10, 20)\n",
    "y = 10 + x * 2 + np.random.randn(20) * 2\n",
    "x, y = x.reshape(-1, 1), y.reshape(-1, 1)\n",
    "\n",
    "lr = LinearRegression()\n",
    "lr.fit(x, y)\n",
    "\n",
    "print(lr.intercept_, lr.coef_)\n",
    "\n",
    "plt.scatter(x, y)\n",
    "\n",
    "x_ = np.array([[0], [10]])\n",
    "plt.plot(x_, lr.predict(x_), c='tab:orange', ls='--')\n",
    "plt.plot(x_, 25 - x_, c='tab:green', ls='--')\n",
    "plt.ylim((0, 40))\n",
    "\n",
    "plt.show()"
   ]
  },
  {
   "cell_type": "markdown",
   "metadata": {},
   "source": [
    "### The line of best fit has a set of parameters that minimize the Mean Squared Error."
   ]
  },
  {
   "cell_type": "markdown",
   "metadata": {},
   "source": [
    "## Closed form solution\n",
    "\n",
    "$\\vec{\\beta}= (X^TX)^{-1}X^T\\vec{y}$"
   ]
  },
  {
   "cell_type": "markdown",
   "metadata": {},
   "source": [
    "## Extra: gradient descent"
   ]
  },
  {
   "cell_type": "code",
   "execution_count": 7,
   "metadata": {},
   "outputs": [
    {
     "data": {
      "text/plain": [
       "1.4241847697680385"
      ]
     },
     "execution_count": 7,
     "metadata": {},
     "output_type": "execute_result"
    }
   ],
   "source": [
    "n = 20\n",
    "x = np.random.uniform(0, 10, n)\n",
    "y = 0 + x * 2 + np.random.randn(n) * 2\n",
    "x, y = x.reshape(-1, 1), y.reshape(-1, 1)\n",
    "\n",
    "coef = 2\n",
    "\n",
    "def predict(x, coef):\n",
    "    return x * coef\n",
    "\n",
    "def mse(y_pred, y):\n",
    "    return np.mean((y_pred - y)**2) / 2\n",
    "\n",
    "y_pred = predict(x, coef)\n",
    "#print(y_pred)\n",
    "\n",
    "mse(y_pred, y)"
   ]
  },
  {
   "cell_type": "code",
   "execution_count": 8,
   "metadata": {},
   "outputs": [
    {
     "data": {
      "image/png": "[encoded data removed]",
      "text/plain": [
       "<Figure size 432x288 with 1 Axes>"
      ]
     },
     "metadata": {
      "needs_background": "light"
     },
     "output_type": "display_data"
    }
   ],
   "source": [
    "coefs = np.linspace(-2, 6, 100)\n",
    "\n",
    "cost = []\n",
    "for c in coefs:\n",
    "    y_pred = predict(x, c)\n",
    "    cost.append(mse(y_pred, y))\n",
    "\n",
    "plt.plot(coefs, cost)\n",
    "plt.xlabel('Coefficient')\n",
    "plt.ylabel('Cost (MSE)')\n",
    "\n",
    "plt.show()"
   ]
  },
  {
   "cell_type": "code",
   "execution_count": 9,
   "metadata": {},
   "outputs": [
    {
     "data": {
      "text/plain": [
       "2.0918702271854523"
      ]
     },
     "execution_count": 9,
     "metadata": {},
     "output_type": "execute_result"
    }
   ],
   "source": [
    "def gradient(x, y, y_pred):\n",
    "    return np.mean((y_pred - y) * x)\n",
    "\n",
    "def update(grad, rate):\n",
    "    return rate * grad\n",
    "\n",
    "def fit(x, y, coef=0, n_iter=100, rate=0.01):\n",
    "    for i in range(n_iter):\n",
    "        #print(coef)\n",
    "        y_pred = predict(x, coef)\n",
    "        #print(mse(y_pred, y))\n",
    "        grad = gradient(x, y, y_pred)\n",
    "        #print(grad)\n",
    "        coef -= update(grad, rate)\n",
    "        \n",
    "    return coef\n",
    "        \n",
    "fit(x, y)"
   ]
  },
  {
   "cell_type": "code",
   "execution_count": 10,
   "metadata": {},
   "outputs": [
    {
     "data": {
      "text/plain": [
       "array([[1.        , 7.25810262],\n",
       "       [1.        , 2.96205782],\n",
       "       [1.        , 8.26284134],\n",
       "       [1.        , 6.85415756],\n",
       "       [1.        , 3.73758137],\n",
       "       [1.        , 9.46645409],\n",
       "       [1.        , 8.02731621],\n",
       "       [1.        , 1.56850636],\n",
       "       [1.        , 8.44331129],\n",
       "       [1.        , 6.6306963 ],\n",
       "       [1.        , 2.87283065],\n",
       "       [1.        , 5.92436727],\n",
       "       [1.        , 4.44550243],\n",
       "       [1.        , 1.98570055],\n",
       "       [1.        , 1.69746368],\n",
       "       [1.        , 6.06052148],\n",
       "       [1.        , 1.91413585],\n",
       "       [1.        , 5.16169408],\n",
       "       [1.        , 1.40757245],\n",
       "       [1.        , 4.28390642]])"
      ]
     },
     "execution_count": 10,
     "metadata": {},
     "output_type": "execute_result"
    }
   ],
   "source": [
    "n = 20\n",
    "x = np.random.uniform(0, 10, n)\n",
    "y = -5 + x * 2 + np.random.randn(n) * 2\n",
    "x, y = x.reshape(-1, 1), y.reshape(-1, 1)\n",
    "\n",
    "x = np.concatenate([np.ones(n).reshape(-1, 1), x], axis=1)\n",
    "x"
   ]
  },
  {
   "cell_type": "code",
   "execution_count": 11,
   "metadata": {},
   "outputs": [
    {
     "data": {
      "text/plain": [
       "array([-5.51711366,  2.17185575])"
      ]
     },
     "execution_count": 11,
     "metadata": {},
     "output_type": "execute_result"
    }
   ],
   "source": [
    "def predict(x, coef):\n",
    "    # Because 1*coef[0] + x[1]*coef[1] + ... +  x[n]*coef[n] is the dot product coef · x\n",
    "    return np.dot(x, coef).reshape(-1, 1)\n",
    "\n",
    "def gradient(x, y, y_pred):\n",
    "    return np.mean((y_pred - y) * x, axis=0)\n",
    "\n",
    "coef = fit(x, y, coef=np.zeros(2), n_iter=10000)\n",
    "coef"
   ]
  },
  {
   "cell_type": "code",
   "execution_count": 12,
   "metadata": {},
   "outputs": [
    {
     "name": "stdout",
     "output_type": "stream",
     "text": [
      "[-5.51711367] [[2.17185575]]\n"
     ]
    }
   ],
   "source": [
    "lr = LinearRegression().fit(x[:, 1:], y)\n",
    "print(lr.intercept_, lr.coef_)"
   ]
  },
  {
   "cell_type": "code",
   "execution_count": 13,
   "metadata": {},
   "outputs": [
    {
     "data": {
      "image/png": "[encoded data removed]",
      "text/plain": [
       "<Figure size 432x288 with 1 Axes>"
      ]
     },
     "metadata": {
      "needs_background": "light"
     },
     "output_type": "display_data"
    }
   ],
   "source": [
    "plt.scatter(x[:, 1], y)\n",
    "plt.plot(x[:, 1], predict(x, coef), 'tab:orange')\n",
    "\n",
    "plt.show()"
   ]
  },
  {
   "cell_type": "markdown",
   "metadata": {},
   "source": [
    "# Correlation vs regression coefficient"
   ]
  },
  {
   "cell_type": "code",
   "execution_count": 14,
   "metadata": {},
   "outputs": [
    {
     "name": "stdout",
     "output_type": "stream",
     "text": [
      "Correlation coefficient: 0.92\n",
      "Regression coefficient: 2.06\n"
     ]
    },
    {
     "data": {
      "image/png": "[encoded data removed]",
      "text/plain": [
       "<Figure size 432x288 with 1 Axes>"
      ]
     },
     "metadata": {
      "needs_background": "light"
     },
     "output_type": "display_data"
    }
   ],
   "source": [
    "x = np.random.uniform(0, 10, 20)\n",
    "y = 10 + x * 2 + np.random.randn(20) * 2\n",
    "\n",
    "print('Correlation coefficient: %.2f' % np.corrcoef([x, y])[0, 1])\n",
    "\n",
    "x, y = x.reshape(-1, 1), y.reshape(-1, 1)\n",
    "\n",
    "lr = LinearRegression()\n",
    "lr.fit(x, y)\n",
    "\n",
    "print('Regression coefficient: %.2f' % lr.coef_)\n",
    "\n",
    "plt.scatter(x, y)\n",
    "\n",
    "plt.plot(x, lr.predict(x), c='tab:orange')\n",
    "\n",
    "plt.show()"
   ]
  },
  {
   "cell_type": "code",
   "execution_count": 15,
   "metadata": {},
   "outputs": [
    {
     "name": "stdout",
     "output_type": "stream",
     "text": [
      "Correlation coefficient: 0.99\n",
      "Regression coefficient: 5.41\n"
     ]
    },
    {
     "data": {
      "image/png": "[encoded data removed]",
      "text/plain": [
       "<Figure size 432x288 with 1 Axes>"
      ]
     },
     "metadata": {
      "needs_background": "light"
     },
     "output_type": "display_data"
    }
   ],
   "source": [
    "x = np.random.uniform(0, 10, 20)\n",
    "y = 10 + x * 5 + np.random.randn(20) * 2\n",
    "\n",
    "print('Correlation coefficient: %.2f' % np.corrcoef([x, y])[0, 1])\n",
    "\n",
    "x, y = x.reshape(-1, 1), y.reshape(-1, 1)\n",
    "\n",
    "lr = LinearRegression()\n",
    "lr.fit(x, y)\n",
    "\n",
    "print('Regression coefficient: %.2f' % lr.coef_)\n",
    "\n",
    "plt.scatter(x, y)\n",
    "\n",
    "plt.plot(x, lr.predict(x), c='tab:orange')\n",
    "\n",
    "plt.show()"
   ]
  },
  {
   "cell_type": "code",
   "execution_count": 16,
   "metadata": {},
   "outputs": [
    {
     "name": "stdout",
     "output_type": "stream",
     "text": [
      "Correlation coefficient: -0.78\n",
      "Regression coefficient: -0.88\n"
     ]
    },
    {
     "data": {
      "image/png": "[encoded data removed]",
      "text/plain": [
       "<Figure size 432x288 with 1 Axes>"
      ]
     },
     "metadata": {
      "needs_background": "light"
     },
     "output_type": "display_data"
    }
   ],
   "source": [
    "x = np.random.uniform(0, 10, 20)\n",
    "y = 10 + x * -1 + np.random.randn(20) * 2\n",
    "\n",
    "print('Correlation coefficient: %.2f' % np.corrcoef([x, y])[0, 1])\n",
    "\n",
    "x, y = x.reshape(-1, 1), y.reshape(-1, 1)\n",
    "\n",
    "lr = LinearRegression()\n",
    "lr.fit(x, y)\n",
    "\n",
    "print('Regression coefficient: %.2f' % lr.coef_)\n",
    "\n",
    "plt.scatter(x, y)\n",
    "\n",
    "plt.plot(x, lr.predict(x), c='tab:orange')\n",
    "\n",
    "plt.show()"
   ]
  },
  {
   "cell_type": "code",
   "execution_count": 17,
   "metadata": {},
   "outputs": [
    {
     "name": "stdout",
     "output_type": "stream",
     "text": [
      "Correlation coefficient: 0.27\n",
      "Regression coefficient: 1.41\n"
     ]
    },
    {
     "data": {
      "image/png": "[encoded data removed]",
      "text/plain": [
       "<Figure size 432x288 with 1 Axes>"
      ]
     },
     "metadata": {
      "needs_background": "light"
     },
     "output_type": "display_data"
    }
   ],
   "source": [
    "x = np.random.uniform(0, 10, 20)\n",
    "y = 10 + x * 2 + np.random.randn(20) * 10\n",
    "\n",
    "print('Correlation coefficient: %.2f' % np.corrcoef([x, y])[0, 1])\n",
    "\n",
    "x, y = x.reshape(-1, 1), y.reshape(-1, 1)\n",
    "\n",
    "lr = LinearRegression()\n",
    "lr.fit(x, y)\n",
    "\n",
    "print('Regression coefficient: %.2f' % lr.coef_)\n",
    "\n",
    "plt.scatter(x, y)\n",
    "\n",
    "plt.plot(x, lr.predict(x), c='tab:orange')\n",
    "\n",
    "plt.show()"
   ]
  },
  {
   "cell_type": "code",
   "execution_count": 18,
   "metadata": {},
   "outputs": [
    {
     "name": "stdout",
     "output_type": "stream",
     "text": [
      "Correlation coefficient: -0.36\n",
      "Regression coefficient: -3.75\n"
     ]
    },
    {
     "data": {
      "image/png": "[encoded data removed]",
      "text/plain": [
       "<Figure size 432x288 with 1 Axes>"
      ]
     },
     "metadata": {
      "needs_background": "light"
     },
     "output_type": "display_data"
    }
   ],
   "source": [
    "x = np.random.uniform(0, 10, 20)\n",
    "y = 10 + x * -2 + np.random.randn(20) * 20\n",
    "\n",
    "print('Correlation coefficient: %.2f' % np.corrcoef([x, y])[0, 1])\n",
    "\n",
    "x, y = x.reshape(-1, 1), y.reshape(-1, 1)\n",
    "\n",
    "lr = LinearRegression()\n",
    "lr.fit(x, y)\n",
    "\n",
    "print('Regression coefficient: %.2f' % lr.coef_)\n",
    "\n",
    "plt.scatter(x, y)\n",
    "\n",
    "plt.plot(x, lr.predict(x), c='tab:orange')\n",
    "\n",
    "plt.show()"
   ]
  }
 ],
 "metadata": {
  "kernelspec": {
   "display_name": "Python 3",
   "language": "python",
   "name": "python3"
  },
  "language_info": {
   "codemirror_mode": {
    "name": "ipython",
    "version": 3
   },
   "file_extension": ".py",
   "mimetype": "text/x-python",
   "name": "python",
   "nbconvert_exporter": "python",
   "pygments_lexer": "ipython3",
   "version": "3.8.5"
  }
 },
 "nbformat": 4,
 "nbformat_minor": 4
}
